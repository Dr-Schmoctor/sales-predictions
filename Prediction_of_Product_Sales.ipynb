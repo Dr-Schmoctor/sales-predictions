{
  "nbformat": 4,
  "nbformat_minor": 0,
  "metadata": {
    "colab": {
      "provenance": [],
      "authorship_tag": "ABX9TyOVLxWr/gGDbIF6s72dFCHi",
      "include_colab_link": true
    },
    "kernelspec": {
      "name": "python3",
      "display_name": "Python 3"
    },
    "language_info": {
      "name": "python"
    }
  },
  "cells": [
    {
      "cell_type": "markdown",
      "metadata": {
        "id": "view-in-github",
        "colab_type": "text"
      },
      "source": [
        "<a href=\"https://colab.research.google.com/github/Dr-Schmoctor/sales-predictions/blob/main/Prediction_of_Product_Sales.ipynb\" target=\"_parent\"><img src=\"https://colab.research.google.com/assets/colab-badge.svg\" alt=\"Open In Colab\"/></a>"
      ]
    },
    {
      "cell_type": "markdown",
      "source": [
        "#Prediction of Product Sales\n",
        "- Author: Jeffrey Prichard\n"
      ],
      "metadata": {
        "id": "QZWZ7KCrUm3C"
      }
    },
    {
      "cell_type": "markdown",
      "source": [
        "##Project Overview:"
      ],
      "metadata": {
        "id": "LHf5-CB9VWzs"
      }
    },
    {
      "cell_type": "markdown",
      "source": [
        "##Load and Inspect Data:\n"
      ],
      "metadata": {
        "id": "q3i7_g51VYOK"
      }
    },
    {
      "cell_type": "code",
      "source": [],
      "metadata": {
        "id": "hUobLUo8VzlZ"
      },
      "execution_count": null,
      "outputs": []
    },
    {
      "cell_type": "markdown",
      "source": [
        "##Clean Data"
      ],
      "metadata": {
        "id": "a1vgYZy_VYmO"
      }
    },
    {
      "cell_type": "code",
      "source": [],
      "metadata": {
        "id": "caCGRk6CV2xL"
      },
      "execution_count": null,
      "outputs": []
    },
    {
      "cell_type": "markdown",
      "source": [
        "##Exploratory Data Analysis:\n"
      ],
      "metadata": {
        "id": "-PpHXtNxVZB9"
      }
    },
    {
      "cell_type": "code",
      "source": [],
      "metadata": {
        "id": "bv8AhC9BV3Pw"
      },
      "execution_count": null,
      "outputs": []
    },
    {
      "cell_type": "markdown",
      "source": [
        "##Feature Inspection:"
      ],
      "metadata": {
        "id": "qsmHROtnVtCL"
      }
    },
    {
      "cell_type": "code",
      "source": [],
      "metadata": {
        "id": "crPOe4QDV3ue"
      },
      "execution_count": null,
      "outputs": []
    }
  ]
}